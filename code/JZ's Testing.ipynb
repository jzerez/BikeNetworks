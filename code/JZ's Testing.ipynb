{
 "cells": [
  {
   "cell_type": "code",
   "execution_count": 24,
   "metadata": {},
   "outputs": [
    {
     "name": "stdout",
     "output_type": "stream",
     "text": [
      "<class 'networkx.classes.multidigraph.MultiDiGraph'>\n"
     ]
    }
   ],
   "source": [
    "import numpy as np\n",
    "import networkx as nx\n",
    "import os\n",
    "\n",
    "# Call this function to get the data \n",
    "def get_data(city='Amsterdam', mode='bike', root_path='../data/'):\n",
    "    folders = os.listdir(root_path)\n",
    "    for folder in folders:\n",
    "        if folder == city:\n",
    "            files = os.listdir(root_path+folder)\n",
    "            bike_data = [file for file in files if mode in file][0]\n",
    "            path = root_path + folder+ '/'+ bike_data;\n",
    "    return nx.read_graphml(path)\n",
    "\n",
    "G = get_data()\n",
    "print(type(G))"
   ]
  },
  {
   "cell_type": "code",
   "execution_count": 25,
   "metadata": {},
   "outputs": [
    {
     "data": {
      "text/plain": [
       "'628561.4884115539'"
      ]
     },
     "execution_count": 25,
     "metadata": {},
     "output_type": "execute_result"
    }
   ],
   "source": [
    "# for n, d in list(G.nodes(data=True)):\n",
    "#     print(d)\n",
    "n='6316199'\n",
    "G.nodes[n]['x']"
   ]
  },
  {
   "cell_type": "code",
   "execution_count": 26,
   "metadata": {},
   "outputs": [
    {
     "data": {
      "text/plain": [
       "OutMultiEdgeDataView([('6316199', '1360288038', {'osmid': '4745774', 'oneway': 'False', 'name': 'Raamsteeg', 'highway': 'cycleway', 'width': '1.80', 'length': 5.164}), ('1360288038', '6316199', {'osmid': '4745774', 'oneway': 'False', 'name': 'Raamsteeg', 'highway': 'cycleway', 'width': '1.80', 'length': 5.164}), ('1360288038', '1069444689', {'osmid': '4745774', 'oneway': 'False', 'name': 'Raamsteeg', 'highway': 'cycleway', 'width': '1.80', 'length': 3.831})])"
      ]
     },
     "execution_count": 26,
     "metadata": {},
     "output_type": "execute_result"
    }
   ],
   "source": [
    "# print(G.edges(('6316199', '1360288038'), data=True))\n",
    "\n",
    "for u, v, d in list(G.edges(data=True)):\n",
    "    d['length'] = float(d['length'])\n",
    "\n",
    "G.edges(('6316199', '1360288038'), data=True)"
   ]
  },
  {
   "cell_type": "code",
   "execution_count": 27,
   "metadata": {
    "collapsed": true
   },
   "outputs": [],
   "source": [
    "def pick_random(G, num=2):\n",
    "    nodes = np.random.choice(G.nodes(), num)\n",
    "    return nodes\n",
    "\n",
    "def compute_path_lengths(num=1000):\n",
    "    failed = 0\n",
    "    path_length = 0\n",
    "    for i in range(num): \n",
    "        u,v = pick_random(G)\n",
    "        try: \n",
    "            path_length += nx.shortest_path_length(G, source=u, target=v, weight='length')\n",
    "        except:\n",
    "            failed += 1\n",
    "    return failed/num, path_length\n",
    "        "
   ]
  },
  {
   "cell_type": "code",
   "execution_count": 30,
   "metadata": {},
   "outputs": [
    {
     "name": "stdout",
     "output_type": "stream",
     "text": [
      "0.5866164542294322 8140.240419761739\n"
     ]
    }
   ],
   "source": [
    "num = len(G.nodes()) // 10\n",
    "failed, path_length = compute_path_lengths(num)\n",
    "print(failed, path_length/(num*(1-failed)))\n"
   ]
  },
  {
   "cell_type": "code",
   "execution_count": 33,
   "metadata": {
    "collapsed": true
   },
   "outputs": [],
   "source": [
    "def new_edge_length(G, u=None, v=None):\n",
    "    \"\"\"\n",
    "        given two nodes in graph G, return the straight line distance (as the crow flies) between them\n",
    "    \"\"\"\n",
    "    if not u and not v:\n",
    "        # randomly choose u and v\n",
    "        pass\n",
    "        u, v = np.random.choice(G.nodes(), 2)\n",
    "        while v in G[u]:\n",
    "            u,v = np.random.choice(G.nodes(), 2)\n",
    "            \n",
    "    elif not u and v:\n",
    "        # randomly choose u\n",
    "        pass\n",
    "        u = pick_random(G, 1)\n",
    "        while v in G[u]:\n",
    "            u = np.random.choice(G.nodes(), 1)\n",
    "            \n",
    "    elif u and not v:\n",
    "        pass\n",
    "        # randomly choose v\n",
    "        v = pick_random(G, 1)\n",
    "        while v in G[u]:\n",
    "            u = np.random.choice(G.nodes(), 1)\n",
    "    \n",
    "    xdist = float(G.nodes[u]['x']) - float(G.nodes[v]['x'])\n",
    "    ydist = float(G.nodes[u]['y']) - float(G.nodes[v]['y'])\n",
    "    length = (xdist**2 + ydist**2)**0.5\n",
    "    return length\n",
    "\n",
    "def calc_directness(G, u, v):\n",
    "    \"\"\"\n",
    "        Calculate the directness between two nodes u and v\n",
    "        Directness is the ratio between:\n",
    "            -the shortest node path length (number of edges times the length of each edge)\n",
    "            - the straight line distance between those two nodes\n",
    "    \"\"\"\n",
    "    # NEEDS WORK\n",
    "    path_length = nx.shortest_path_length(G, source=u, target=v, weight='length')\n",
    "    direct_length = new_edge_length(G, u, v)\n",
    "    return direct_length/path_length\n"
   ]
  },
  {
   "cell_type": "code",
   "execution_count": 53,
   "metadata": {},
   "outputs": [
    {
     "name": "stdout",
     "output_type": "stream",
     "text": [
      "355\n",
      "23781\n"
     ]
    }
   ],
   "source": [
    "wcc = [cc for cc in nx.weakly_connected_component_subgraphs(G)]\n",
    "wcc.sort(key=len, reverse=True)\n",
    "print(len(wcc))\n",
    "print(len(wcc[0]))\n",
    "G2 = wcc[0]\n",
    "d = 0\n",
    "# pick 1000 random edges from the largest component and calculate the average directness d (NEEDS WORK)\n",
    "for i in range(1000):\n",
    "    c = np.random.choice(len(G2.edges()), 1)\n",
    "    edges = list(G2.edges())\n",
    "    u, v = edges[int(c)]\n",
    "    d += (calc_directness(G2, u, v) / 1000)\n",
    "\n",
    "d"
   ]
  },
  {
   "cell_type": "code",
   "execution_count": 54,
   "metadata": {},
   "outputs": [
    {
     "data": {
      "text/plain": [
       "1.0017909835154841"
      ]
     },
     "execution_count": 54,
     "metadata": {},
     "output_type": "execute_result"
    }
   ],
   "source": [
    "d"
   ]
  },
  {
   "cell_type": "code",
   "execution_count": null,
   "metadata": {
    "collapsed": true
   },
   "outputs": [],
   "source": []
  }
 ],
 "metadata": {
  "kernelspec": {
   "display_name": "Python 3",
   "language": "python",
   "name": "python3"
  },
  "language_info": {
   "codemirror_mode": {
    "name": "ipython",
    "version": 3
   },
   "file_extension": ".py",
   "mimetype": "text/x-python",
   "name": "python",
   "nbconvert_exporter": "python",
   "pygments_lexer": "ipython3",
   "version": "3.6.2"
  }
 },
 "nbformat": 4,
 "nbformat_minor": 2
}
