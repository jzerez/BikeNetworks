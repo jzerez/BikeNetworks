{
 "cells": [
  {
   "cell_type": "code",
   "execution_count": 1,
   "metadata": {},
   "outputs": [
    {
     "name": "stdout",
     "output_type": "stream",
     "text": [
      "<class 'networkx.classes.digraph.DiGraph'>\n"
     ]
    }
   ],
   "source": [
    "import numpy as np\n",
    "import networkx as nx\n",
    "import os\n",
    "\n",
    "# Call this function to get the data \n",
    "def get_data(city='Detroit', mode='bike', root_path='../data/'):\n",
    "    folders = os.listdir(root_path)\n",
    "    for folder in folders:\n",
    "        if folder == city:\n",
    "            files = os.listdir(root_path+folder)\n",
    "            bike_data = [file for file in files if mode in file][0]\n",
    "            path = root_path + folder+ '/'+ bike_data;\n",
    "    return nx.read_graphml(path)\n",
    "\n",
    "G = get_data()\n",
    "print(type(G))"
   ]
  },
  {
   "cell_type": "code",
   "execution_count": 21,
   "metadata": {},
   "outputs": [
    {
     "data": {
      "text/plain": [
       "3663"
      ]
     },
     "execution_count": 21,
     "metadata": {},
     "output_type": "execute_result"
    }
   ],
   "source": [
    "# for n, d in list(G.nodes(data=True)):\n",
    "#     print(d)\n",
    "len(G.nodes())"
   ]
  },
  {
   "cell_type": "code",
   "execution_count": 20,
   "metadata": {
    "collapsed": true
   },
   "outputs": [],
   "source": [
    "# print(G.edges(('6316199', '1360288038'), data=True))\n",
    "\n",
    "for u, v, d in list(G.edges(data=True)):\n",
    "    d['length'] = float(d['length'])\n",
    "\n",
    "# G.edges(('6316199', '1360288038'), data=True)"
   ]
  },
  {
   "cell_type": "code",
   "execution_count": 9,
   "metadata": {
    "collapsed": true
   },
   "outputs": [],
   "source": [
    "def pick_random(G, num=2):\n",
    "    nodes = np.random.choice(G.nodes(), num)\n",
    "    return nodes\n",
    "\n",
    "def compute_path_lengths(num=1000):\n",
    "    failed = 0\n",
    "    path_length = 0\n",
    "    for i in range(num): \n",
    "        u,v = pick_random(G)\n",
    "        try: \n",
    "            path_length += nx.shortest_path_length(G, source=u, target=v, weight='length')\n",
    "        except:\n",
    "            failed += 1\n",
    "    return failed/num, path_length\n",
    "        "
   ]
  },
  {
   "cell_type": "code",
   "execution_count": 10,
   "metadata": {},
   "outputs": [
    {
     "ename": "ZeroDivisionError",
     "evalue": "float division by zero",
     "output_type": "error",
     "traceback": [
      "\u001b[1;31m---------------------------------------------------------------------------\u001b[0m",
      "\u001b[1;31mZeroDivisionError\u001b[0m                         Traceback (most recent call last)",
      "\u001b[1;32m<ipython-input-10-06a0b2b50e9f>\u001b[0m in \u001b[0;36m<module>\u001b[1;34m()\u001b[0m\n\u001b[0;32m      1\u001b[0m \u001b[0mnum\u001b[0m \u001b[1;33m=\u001b[0m \u001b[0mlen\u001b[0m\u001b[1;33m(\u001b[0m\u001b[0mG\u001b[0m\u001b[1;33m.\u001b[0m\u001b[0mnodes\u001b[0m\u001b[1;33m(\u001b[0m\u001b[1;33m)\u001b[0m\u001b[1;33m)\u001b[0m \u001b[1;33m//\u001b[0m \u001b[1;36m10\u001b[0m\u001b[1;33m\u001b[0m\u001b[0m\n\u001b[0;32m      2\u001b[0m \u001b[0mfailed\u001b[0m\u001b[1;33m,\u001b[0m \u001b[0mpath_length\u001b[0m \u001b[1;33m=\u001b[0m \u001b[0mcompute_path_lengths\u001b[0m\u001b[1;33m(\u001b[0m\u001b[0mnum\u001b[0m\u001b[1;33m)\u001b[0m\u001b[1;33m\u001b[0m\u001b[0m\n\u001b[1;32m----> 3\u001b[1;33m \u001b[0mprint\u001b[0m\u001b[1;33m(\u001b[0m\u001b[0mfailed\u001b[0m\u001b[1;33m,\u001b[0m \u001b[0mpath_length\u001b[0m\u001b[1;33m/\u001b[0m\u001b[1;33m(\u001b[0m\u001b[0mnum\u001b[0m\u001b[1;33m*\u001b[0m\u001b[1;33m(\u001b[0m\u001b[1;36m1\u001b[0m\u001b[1;33m-\u001b[0m\u001b[0mfailed\u001b[0m\u001b[1;33m)\u001b[0m\u001b[1;33m)\u001b[0m\u001b[1;33m)\u001b[0m\u001b[1;33m\u001b[0m\u001b[0m\n\u001b[0m",
      "\u001b[1;31mZeroDivisionError\u001b[0m: float division by zero"
     ]
    }
   ],
   "source": [
    "num = len(G.nodes()) // 10\n",
    "failed, path_length = compute_path_lengths(num)\n",
    "print(failed, path_length/(num*(1-failed)))\n"
   ]
  },
  {
   "cell_type": "code",
   "execution_count": 21,
   "metadata": {
    "collapsed": true
   },
   "outputs": [],
   "source": [
    "def new_edge_length(G, u=None, v=None):\n",
    "    \"\"\"\n",
    "        given two nodes in graph G, return the straight line distance (as the crow flies) between them\n",
    "    \"\"\"\n",
    "    if not u and not v:\n",
    "        # randomly choose u and v\n",
    "        pass\n",
    "        u, v = np.random.choice(G.nodes(), 2)\n",
    "        while v in G[u]:\n",
    "            u,v = np.random.choice(G.nodes(), 2)\n",
    "            \n",
    "    elif not u and v:\n",
    "        # randomly choose u\n",
    "        pass\n",
    "        u = pick_random(G, 1)\n",
    "        while v in G[u]:\n",
    "            u = np.random.choice(G.nodes(), 1)\n",
    "            \n",
    "    elif u and not v:\n",
    "        pass\n",
    "        # randomly choose v\n",
    "        v = pick_random(G, 1)\n",
    "        while v in G[u]:\n",
    "            u = np.random.choice(G.nodes(), 1)\n",
    "    \n",
    "    xdist = float(G.nodes[u]['x']) - float(G.nodes[v]['x'])\n",
    "    ydist = float(G.nodes[u]['y']) - float(G.nodes[v]['y'])\n",
    "    length = (xdist**2 + ydist**2)**0.5\n",
    "    return length\n",
    "\n",
    "def calc_directness(G, u, v):\n",
    "    \"\"\"\n",
    "        Calculate the directness between two nodes u and v\n",
    "        Directness is the ratio between:\n",
    "            - the shortest node path length (number of edges times the length of each edge)\n",
    "            - the straight line distance between those two nodes\n",
    "        If v cannot be reached from u, then directness is zero\n",
    "        \n",
    "        G: An nx graph\n",
    "        u: the starting node\n",
    "        v: the ending node\n",
    "        \n",
    "    \"\"\"\n",
    "    try:\n",
    "        path_length = nx.shortest_path_length(G, source=u, target=v, weight='length')\n",
    "        direct_length = new_edge_length(G, u, v)\n",
    "        ret = direct_length/path_length\n",
    "        return ret\n",
    "    except:\n",
    "        return 0\n",
    "\n",
    "    \n"
   ]
  },
  {
   "cell_type": "code",
   "execution_count": 24,
   "metadata": {
    "collapsed": true
   },
   "outputs": [],
   "source": [
    "wcc = [cc for cc in nx.weakly_connected_component_subgraphs(G)]\n",
    "wcc.sort(key=len, reverse=True)\n",
    "G2 = wcc[0]\n",
    "d = []\n",
    "n = 100\n",
    "# pick 1000 random edges from the largest component and calculate the average directness d (NEEDS WORK)\n",
    "\n",
    "def calc_avg_directness_connected(G, n):\n",
    "    \"\"\"\n",
    "    Calculates the average directness of n pairs of nodes. All of these nodes are already connected.\n",
    "    G: An nx graph\n",
    "    n: The number of pairs to use\n",
    "    \"\"\"\n",
    "    d = 0\n",
    "    for _ in range(n):\n",
    "        start = np.random.choice(G.nodes(), 1)\n",
    "        start = start[0]\n",
    "        reachable = nx.descendants(G, start)\n",
    "        if not reachable:\n",
    "            continue\n",
    "        end = np.random.choice(list(reachable), 1)\n",
    "        end = end[0]\n",
    "        \n",
    "        direct = calc_directness(G, start, end)\n",
    "        d += (direct / n);\n",
    "    return d\n",
    "\n",
    "def calc_avg_directness_random(G, n):\n",
    "    \"\"\"\n",
    "    Calculates the average directness of n pairs of nodes. These nodes are chosen at random. \n",
    "    If they are not connected, the directness is zero\n",
    "    \n",
    "    G: An nx graph\n",
    "    n: the number of pairs to use\n",
    "    \"\"\"\n",
    "    d = 0\n",
    "    for _ in range(n):\n",
    "        pairs = np.random.choice(G.nodes(), 2)\n",
    "        d += calc_directness(G, pairs[0], pairs[1]) / n\n",
    "    return d\n",
    "        \n",
    "\n",
    "def get_components(G):\n",
    "    '''\n",
    "    Get the connected components of G\n",
    "    G: An nx graph\n",
    "    \n",
    "    Outputs\n",
    "    wcc: A list of the components sorted by size\n",
    "    '''\n",
    "    wcc = [cc for cc in nx.weakly_connected_component_subgraphs(G)]\n",
    "    wcc.sort(key=len, reverse=True)\n",
    "    return wcc\n",
    "\n",
    "def calc_lcc(G):\n",
    "    '''\n",
    "    Returns the number of nodes in the largest component of graph G\n",
    "    G: An nx graph\n",
    "    '''\n",
    "    wcc = get_components(G)\n",
    "    return len(wcc[0])"
   ]
  },
  {
   "cell_type": "code",
   "execution_count": 26,
   "metadata": {},
   "outputs": [
    {
     "data": {
      "text/plain": [
       "0.0823985730572991"
      ]
     },
     "execution_count": 26,
     "metadata": {},
     "output_type": "execute_result"
    }
   ],
   "source": [
    "calc_avg_directness_random(G, 100)"
   ]
  },
  {
   "cell_type": "code",
   "execution_count": 17,
   "metadata": {
    "collapsed": true
   },
   "outputs": [],
   "source": [
    "def L2C(wcc):\n",
    "    '''\n",
    "    Find the closest pair of nodes between two different connected components.\n",
    "    ---\n",
    "    wcc: list connected components\n",
    "\n",
    "    returns: dict nodes i and j and distance\n",
    "    '''\n",
    "    closest_pair = {'i': 0, 'j': 0, 'dist': np.inf}\n",
    "    for i in wcc[0].nodes(data=True):\n",
    "        i_coord = (i[1]['y'], i[1]['x'])\n",
    "        for j in wcc[1:]:\n",
    "            for k in j.nodes(data=True):\n",
    "                j_coord = (k[1]['y'], k[1]['x'])\n",
    "                dist = euclidean_dist_vec(float(i_coord[0]), float(i_coord[1]), float(j_coord[0]), float(j_coord[1]))\n",
    "                if dist < closest_pair['dist']:\n",
    "                    closest_pair['i'] = i[0]\n",
    "                    closest_pair['j'] = k[0]\n",
    "                    closest_pair['dist'] = dist\n",
    "    return closest_pair\n"
   ]
  },
  {
   "cell_type": "code",
   "execution_count": 18,
   "metadata": {
    "collapsed": true
   },
   "outputs": [],
   "source": [
    "def new_city(G, algy):\n",
    "    \"\"\"\n",
    "    wcc = Sorted list of weakly connected subgraphs\n",
    "    algy = desired path-adding algorithm\n",
    "    \n",
    "    \"\"\"\n",
    "    wcc = [cc for cc in nx.weakly_connected_component_subgraphs(G)]\n",
    "    wcc.sort(key=len, reverse=True)\n",
    "    runs = len(wcc) - 1\n",
    "    added_edges = []\n",
    "    tot_length = []\n",
    "    for i in range(runs):\n",
    "        added_edge = algy(wcc[i:])\n",
    "        edge = (added_edge['i'],added_edge['j'],added_edge['dist'])\n",
    "        added_edges.append(edge)\n",
    "        tot_length.append(edge[2])\n",
    "        wcc = [cc for cc in nx.weakly_connected_component_subgraphs(G)]\n",
    "        wcc.sort(key=len, reverse=True)\n",
    "        \n",
    "    return added_edges, tot_length   "
   ]
  },
  {
   "cell_type": "code",
   "execution_count": 19,
   "metadata": {},
   "outputs": [
    {
     "ename": "NameError",
     "evalue": "name 'euclidean_dist_vec' is not defined",
     "output_type": "error",
     "traceback": [
      "\u001b[1;31m---------------------------------------------------------------------------\u001b[0m",
      "\u001b[1;31mNameError\u001b[0m                                 Traceback (most recent call last)",
      "\u001b[1;32m<ipython-input-19-8a3bfd00a99e>\u001b[0m in \u001b[0;36m<module>\u001b[1;34m()\u001b[0m\n\u001b[1;32m----> 1\u001b[1;33m \u001b[0mnew_city\u001b[0m\u001b[1;33m(\u001b[0m\u001b[0mG\u001b[0m\u001b[1;33m,\u001b[0m \u001b[0mL2C\u001b[0m\u001b[1;33m)\u001b[0m\u001b[1;33m\u001b[0m\u001b[0m\n\u001b[0m",
      "\u001b[1;32m<ipython-input-18-581367f1ebc0>\u001b[0m in \u001b[0;36mnew_city\u001b[1;34m(G, algy)\u001b[0m\n\u001b[0;32m     11\u001b[0m     \u001b[0mtot_length\u001b[0m \u001b[1;33m=\u001b[0m \u001b[1;33m[\u001b[0m\u001b[1;33m]\u001b[0m\u001b[1;33m\u001b[0m\u001b[0m\n\u001b[0;32m     12\u001b[0m     \u001b[1;32mfor\u001b[0m \u001b[0mi\u001b[0m \u001b[1;32min\u001b[0m \u001b[0mrange\u001b[0m\u001b[1;33m(\u001b[0m\u001b[0mruns\u001b[0m\u001b[1;33m)\u001b[0m\u001b[1;33m:\u001b[0m\u001b[1;33m\u001b[0m\u001b[0m\n\u001b[1;32m---> 13\u001b[1;33m         \u001b[0madded_edge\u001b[0m \u001b[1;33m=\u001b[0m \u001b[0malgy\u001b[0m\u001b[1;33m(\u001b[0m\u001b[0mwcc\u001b[0m\u001b[1;33m[\u001b[0m\u001b[0mi\u001b[0m\u001b[1;33m:\u001b[0m\u001b[1;33m]\u001b[0m\u001b[1;33m)\u001b[0m\u001b[1;33m\u001b[0m\u001b[0m\n\u001b[0m\u001b[0;32m     14\u001b[0m         \u001b[0medge\u001b[0m \u001b[1;33m=\u001b[0m \u001b[1;33m(\u001b[0m\u001b[0madded_edge\u001b[0m\u001b[1;33m[\u001b[0m\u001b[1;34m'i'\u001b[0m\u001b[1;33m]\u001b[0m\u001b[1;33m,\u001b[0m\u001b[0madded_edge\u001b[0m\u001b[1;33m[\u001b[0m\u001b[1;34m'j'\u001b[0m\u001b[1;33m]\u001b[0m\u001b[1;33m,\u001b[0m\u001b[0madded_edge\u001b[0m\u001b[1;33m[\u001b[0m\u001b[1;34m'dist'\u001b[0m\u001b[1;33m]\u001b[0m\u001b[1;33m)\u001b[0m\u001b[1;33m\u001b[0m\u001b[0m\n\u001b[0;32m     15\u001b[0m         \u001b[0madded_edges\u001b[0m\u001b[1;33m.\u001b[0m\u001b[0mappend\u001b[0m\u001b[1;33m(\u001b[0m\u001b[0medge\u001b[0m\u001b[1;33m)\u001b[0m\u001b[1;33m\u001b[0m\u001b[0m\n",
      "\u001b[1;32m<ipython-input-17-f6250cf16ef4>\u001b[0m in \u001b[0;36mL2C\u001b[1;34m(wcc)\u001b[0m\n\u001b[0;32m     13\u001b[0m             \u001b[1;32mfor\u001b[0m \u001b[0mk\u001b[0m \u001b[1;32min\u001b[0m \u001b[0mj\u001b[0m\u001b[1;33m.\u001b[0m\u001b[0mnodes\u001b[0m\u001b[1;33m(\u001b[0m\u001b[0mdata\u001b[0m\u001b[1;33m=\u001b[0m\u001b[1;32mTrue\u001b[0m\u001b[1;33m)\u001b[0m\u001b[1;33m:\u001b[0m\u001b[1;33m\u001b[0m\u001b[0m\n\u001b[0;32m     14\u001b[0m                 \u001b[0mj_coord\u001b[0m \u001b[1;33m=\u001b[0m \u001b[1;33m(\u001b[0m\u001b[0mk\u001b[0m\u001b[1;33m[\u001b[0m\u001b[1;36m1\u001b[0m\u001b[1;33m]\u001b[0m\u001b[1;33m[\u001b[0m\u001b[1;34m'y'\u001b[0m\u001b[1;33m]\u001b[0m\u001b[1;33m,\u001b[0m \u001b[0mk\u001b[0m\u001b[1;33m[\u001b[0m\u001b[1;36m1\u001b[0m\u001b[1;33m]\u001b[0m\u001b[1;33m[\u001b[0m\u001b[1;34m'x'\u001b[0m\u001b[1;33m]\u001b[0m\u001b[1;33m)\u001b[0m\u001b[1;33m\u001b[0m\u001b[0m\n\u001b[1;32m---> 15\u001b[1;33m                 \u001b[0mdist\u001b[0m \u001b[1;33m=\u001b[0m \u001b[0meuclidean_dist_vec\u001b[0m\u001b[1;33m(\u001b[0m\u001b[0mfloat\u001b[0m\u001b[1;33m(\u001b[0m\u001b[0mi_coord\u001b[0m\u001b[1;33m[\u001b[0m\u001b[1;36m0\u001b[0m\u001b[1;33m]\u001b[0m\u001b[1;33m)\u001b[0m\u001b[1;33m,\u001b[0m \u001b[0mfloat\u001b[0m\u001b[1;33m(\u001b[0m\u001b[0mi_coord\u001b[0m\u001b[1;33m[\u001b[0m\u001b[1;36m1\u001b[0m\u001b[1;33m]\u001b[0m\u001b[1;33m)\u001b[0m\u001b[1;33m,\u001b[0m \u001b[0mfloat\u001b[0m\u001b[1;33m(\u001b[0m\u001b[0mj_coord\u001b[0m\u001b[1;33m[\u001b[0m\u001b[1;36m0\u001b[0m\u001b[1;33m]\u001b[0m\u001b[1;33m)\u001b[0m\u001b[1;33m,\u001b[0m \u001b[0mfloat\u001b[0m\u001b[1;33m(\u001b[0m\u001b[0mj_coord\u001b[0m\u001b[1;33m[\u001b[0m\u001b[1;36m1\u001b[0m\u001b[1;33m]\u001b[0m\u001b[1;33m)\u001b[0m\u001b[1;33m)\u001b[0m\u001b[1;33m\u001b[0m\u001b[0m\n\u001b[0m\u001b[0;32m     16\u001b[0m                 \u001b[1;32mif\u001b[0m \u001b[0mdist\u001b[0m \u001b[1;33m<\u001b[0m \u001b[0mclosest_pair\u001b[0m\u001b[1;33m[\u001b[0m\u001b[1;34m'dist'\u001b[0m\u001b[1;33m]\u001b[0m\u001b[1;33m:\u001b[0m\u001b[1;33m\u001b[0m\u001b[0m\n\u001b[0;32m     17\u001b[0m                     \u001b[0mclosest_pair\u001b[0m\u001b[1;33m[\u001b[0m\u001b[1;34m'i'\u001b[0m\u001b[1;33m]\u001b[0m \u001b[1;33m=\u001b[0m \u001b[0mi\u001b[0m\u001b[1;33m[\u001b[0m\u001b[1;36m0\u001b[0m\u001b[1;33m]\u001b[0m\u001b[1;33m\u001b[0m\u001b[0m\n",
      "\u001b[1;31mNameError\u001b[0m: name 'euclidean_dist_vec' is not defined"
     ]
    }
   ],
   "source": [
    "new_city(G, L2C)"
   ]
  },
  {
   "cell_type": "code",
   "execution_count": null,
   "metadata": {
    "collapsed": true
   },
   "outputs": [],
   "source": []
  }
 ],
 "metadata": {
  "kernelspec": {
   "display_name": "Python 3",
   "language": "python",
   "name": "python3"
  },
  "language_info": {
   "codemirror_mode": {
    "name": "ipython",
    "version": 3
   },
   "file_extension": ".py",
   "mimetype": "text/x-python",
   "name": "python",
   "nbconvert_exporter": "python",
   "pygments_lexer": "ipython3",
   "version": "3.6.2"
  }
 },
 "nbformat": 4,
 "nbformat_minor": 2
}
