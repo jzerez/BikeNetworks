{
 "cells": [
  {
   "cell_type": "code",
   "execution_count": 24,
   "metadata": {
    "scrolled": true
   },
   "outputs": [
    {
     "name": "stdout",
     "output_type": "stream",
     "text": [
      "<class 'networkx.classes.multidigraph.MultiDiGraph'>\n"
     ]
    }
   ],
   "source": [
    "import numpy as np\n",
    "import networkx as nx\n",
    "import os\n",
    "import osmnx as ox\n",
    "import time\n",
    "\n",
    "\n",
    "# Call this function to get the data \n",
    "def get_data(city='Detroit', mode='bike', root_path='../data/'):\n",
    "    folders = os.listdir(root_path)\n",
    "    for folder in folders:\n",
    "        if folder == city:\n",
    "            files = os.listdir(root_path+folder)\n",
    "            bike_data = [file for file in files if mode in file][0]\n",
    "            path = root_path + folder+ '/'+ bike_data;\n",
    "    return ox.load_graphml('C:/Users/nlepore/ComplexityScienceProject1/data/{}/{}_bike.graphml'.format(name,name))\n",
    "\n",
    "    #return nx.read_graphml(path)\n",
    "\n",
    "G = get_data()\n",
    "print(type(G))"
   ]
  },
  {
   "cell_type": "markdown",
   "metadata": {},
   "source": [
    "#### Define helper functions to compute metrics"
   ]
  },
  {
   "cell_type": "code",
   "execution_count": 2,
   "metadata": {},
   "outputs": [],
   "source": [
    "def convert_lengths_to_floats(G):\n",
    "    \"\"\"\n",
    "    Changes the attributes of the edges of graph G such that the 'length' field\n",
    "    is a float rather than a string\n",
    "    \"\"\"\n",
    "    for u, v, d in list(G.edges(data=True)):\n",
    "        d['length'] = float(d['length'])\n",
    "\n",
    "def get_edge_length(G, u, v):\n",
    "    \"\"\"\n",
    "    given two nodes in graph G, return the straight line distance \n",
    "    (as the crow flies) between them\n",
    "    \"\"\"\n",
    "    xdist = float(G.nodes[u]['x']) - float(G.nodes[v]['x'])\n",
    "    ydist = float(G.nodes[u]['y']) - float(G.nodes[v]['y'])\n",
    "    length = (xdist**2 + ydist**2)**0.5\n",
    "    return length\n",
    "\n",
    "def make_new_random_edge(G, u=None):\n",
    "    \"\"\"\n",
    "    Return a tuple of nodes representing a random new and unique edge\n",
    "    \"\"\"\n",
    "    if not u:\n",
    "        u = np.random.choice(G.nodes(), 1)\n",
    "        u = u[0]\n",
    "    \n",
    "    available = [node for node in G.nodes() if node not in G[u]]\n",
    "    \n",
    "    # choose v if not specified\n",
    "    v = np.random.choice(available, 1)\n",
    "    v = v[0]\n",
    "    return (u, v)\n",
    "\n",
    "    \n",
    "def calc_directness(G, u, v):\n",
    "    \"\"\"\n",
    "    Calculate the directness between two nodes u and v\n",
    "    Directness is the ratio between:\n",
    "        - the shortest node path length (number of edges times the length of each edge)\n",
    "        - the straight line distance between those two nodes\n",
    "    \"\"\"\n",
    "    path_length = nx.shortest_path_length(G, source=u, target=v, weight='length')\n",
    "    direct_length = get_edge_length(G, u, v)\n",
    "    return direct_length/path_length\n",
    "\n",
    "def calc_avg_directness(G, n):\n",
    "    \"\"\"\n",
    "        Given a weakly connected directed graph component, G\n",
    "        Pick n pairs of random nodes, and caluclate the average directness\n",
    "    \"\"\"\n",
    "    d = 0\n",
    "    for _ in range(n):\n",
    "        start = np.random.choice(G.nodes(), 1)\n",
    "        start = start[0]\n",
    "        reachable = nx.descendants(G, start)\n",
    "        if not reachable:\n",
    "            continue\n",
    "        end = np.random.choice(list(reachable), 1)\n",
    "        end = end[0]\n",
    "\n",
    "        d += (calc_directness(G, start, end) / n);\n",
    "    return d\n",
    "\n",
    "def euclidean_dist_vec(y1, x1, y2, x2):\n",
    "    '''\n",
    "    Calculate the euclidean distance between two points.\n",
    "    '''\n",
    "    distance = ((x1 - x2) ** 2 + (y1 - y2) ** 2) ** 0.5\n",
    "    return distance\n"
   ]
  },
  {
   "cell_type": "markdown",
   "metadata": {},
   "source": [
    "#### Define Methods for connecting the Graphs"
   ]
  },
  {
   "cell_type": "code",
   "execution_count": 4,
   "metadata": {},
   "outputs": [],
   "source": [
    "def L2S(wcc):\n",
    "    '''\n",
    "    Find the closest pair of nodes between two different connected components.\n",
    "    ---\n",
    "    wcc: list connected components\n",
    "\n",
    "    returns: dict nodes i and j and distance\n",
    "    '''\n",
    "    closest_pair = {'i': 0, 'j': 0, 'dist': np.inf}\n",
    "    for i in wcc[0].nodes(data=True):\n",
    "        i_coord = (i[1]['y'], i[1]['x'])\n",
    "        for j in wcc[1].nodes(data=True):\n",
    "            j_coord = (j[1]['y'], j[1]['x'])\n",
    "            dist = euclidean_dist_vec(i_coord[0], i_coord[1], j_coord[0], j_coord[1])\n",
    "            if dist < closest_pair['dist']:\n",
    "                closest_pair['i'] = i[0]\n",
    "                closest_pair['j'] = j[0]\n",
    "                closest_pair['dist'] = dist\n",
    "    return closest_pair\n",
    "\n",
    "def L2C(wcc):\n",
    "    closest_pair = {'i': 0, 'j': 0, 'dist': np.inf}\n",
    "    for i in wcc[0].nodes(data=True):\n",
    "        i_coord = (i[1]['y'], i[1]['x'])\n",
    "        for j in wcc[1:]:\n",
    "            for k in j.nodes(data=True):\n",
    "                j_coord = (k[1]['y'], k[1]['x'])\n",
    "                dist = euclidean_dist_vec(float(i_coord[0]), float(i_coord[1]), float(j_coord[0]), float(j_coord[1]))\n",
    "                if dist < closest_pair['dist']:\n",
    "                    closest_pair['i'] = i[0]\n",
    "                    closest_pair['j'] = k[0]\n",
    "                    closest_pair['dist'] = dist\n",
    "    return closest_pair\n",
    "\n",
    "def R2C(wcc):\n",
    "    '''\n",
    "    Find the closest pair of nodes between two different connected components.\n",
    "    ---\n",
    "    wcc: list connected components\n",
    "\n",
    "    returns: dict nodes i and j and distance\n",
    "    '''\n",
    "    closest_pair = {'i': 0, 'j': 0, 'dist': np.inf}\n",
    "    num_clusters = len(wcc)\n",
    "    cluster = np.random.choice(len(wcc))\n",
    "    for i in wcc[cluster].nodes(data=True):\n",
    "        i_coord = (i[1]['y'], i[1]['x'])\n",
    "        for w,j in enumerate(wcc[1:]):\n",
    "            if w == cluster - 1:\n",
    "                break\n",
    "            for k in j.nodes(data=True):\n",
    "                j_coord = (k[1]['y'], k[1]['x'])\n",
    "                dist = euclidean_dist_vec(float(i_coord[0]), float(i_coord[1]), float(j_coord[0]), float(j_coord[1]))\n",
    "                if dist < closest_pair['dist']:\n",
    "                    closest_pair['i'] = i[0]\n",
    "                    closest_pair['j'] = k[0]\n",
    "                    closest_pair['dist'] = dist\n",
    "    return closest_pair\n",
    "\n",
    "def Closest(wcc):\n",
    "    closest_pair = {'i': 0, 'j': 0, 'dist': np.inf}\n",
    "    for v,i in enumerate(wcc[0:]):\n",
    "            for u in i.nodes(data=True):\n",
    "                i_coord = (u[1]['y'], u[1]['x'])\n",
    "                for w,j in enumerate(wcc[0:]):\n",
    "                    if w == v:\n",
    "                        break\n",
    "                    for k in j.nodes(data=True):\n",
    "                        j_coord = (k[1]['y'], k[1]['x'])\n",
    "                        dist = euclidean_dist_vec(float(i_coord[0]), float(i_coord[1]), float(j_coord[0]), float(j_coord[1]))\n",
    "                        if dist < closest_pair['dist']:\n",
    "                            closest_pair['i'] = u[0]\n",
    "                            closest_pair['j'] = k[0]\n",
    "                            closest_pair['dist'] = dist\n",
    "    return closest_pair\n"
   ]
  },
  {
   "cell_type": "code",
   "execution_count": 5,
   "metadata": {},
   "outputs": [
    {
     "data": {
      "text/plain": [
       "[0.7648613051718686,\n",
       " 0.7343356315721234,\n",
       " 0.7420760143971832,\n",
       " 0.8191443347954969,\n",
       " 0.7378963701383855,\n",
       " 1.001983400981681,\n",
       " 0.999673581596141,\n",
       " 0.8250864604793381,\n",
       " 1.0015956574417908,\n",
       " 0.9073006056780458,\n",
       " 0.9379728621193912,\n",
       " 0.971378981875917,\n",
       " 0.9128755104835539,\n",
       " 0.9786185919522088,\n",
       " 0.9973638081128271,\n",
       " 0.9127434890429086,\n",
       " 1.0025561528889038,\n",
       " 0.9853078566996968,\n",
       " 0.9719435223624527,\n",
       " 0.9120387125516936,\n",
       " 0.999187971294352,\n",
       " 0.9899101985054352,\n",
       " 0.8957981162977794,\n",
       " 0.9639994925681419,\n",
       " 0.9401330550558847,\n",
       " 1.0026145061358769,\n",
       " 1.0018674212828291,\n",
       " 0.9850177649429644,\n",
       " 0.8780106608539596,\n",
       " 1.0017630438157192,\n",
       " 0.9993691531407217,\n",
       " 1.0011685096977487,\n",
       " 0.9966030709164675,\n",
       " 0.9184484656604768,\n",
       " 0.9991520825920828,\n",
       " 1.0016509200733466,\n",
       " 0.997665821974729,\n",
       " 0.9989337809871051,\n",
       " 1.001701033350583,\n",
       " 0.9975729460346459,\n",
       " 0.9989245374708997,\n",
       " 0.999683877398664,\n",
       " 1.0026345574253273,\n",
       " 1.0017498600654813,\n",
       " 1.001595830538935,\n",
       " 1.001730718529688,\n",
       " 0.9997617701457238,\n",
       " 1.002588203849152,\n",
       " 1.0018009582051952,\n",
       " 0.9960271308091591,\n",
       " 0.9997531944352473,\n",
       " 1.0016202179302995,\n",
       " 1.0018025909364885]"
      ]
     },
     "execution_count": 5,
     "metadata": {},
     "output_type": "execute_result"
    }
   ],
   "source": [
    "convert_lengths_to_floats(G)\n",
    "# Separate the graph into components\n",
    "wcc = [cc for cc in nx.weakly_connected_component_subgraphs(G)]\n",
    "wcc.sort(key=len, reverse=True)\n",
    "\n",
    "ds = []\n",
    "for component in wcc:\n",
    "    num_edges = len(component.edges())\n",
    "    ds.append(calc_avg_directness(component, int(num_edges**0.7)))\n",
    "ds"
   ]
  },
  {
   "cell_type": "code",
   "execution_count": 53,
   "metadata": {},
   "outputs": [],
   "source": [
    "def new_city(G, algy, length):\n",
    "    \"\"\"\n",
    "    wcc = Sorted list of weakly connected subgraphs\n",
    "    algy = desired path-adding algorithm\n",
    "    \n",
    "    \"\"\"\n",
    "    added_edges = []\n",
    "    tot_length = []\n",
    "    i = 0\n",
    "    while sum(tot_length) < length:\n",
    "        wcc = [cc for cc in nx.weakly_connected_component_subgraphs(G)]\n",
    "        wcc.sort(key=len, reverse=True)\n",
    "        added_edge = algy(wcc[i:])\n",
    "        edge = (added_edge['i'],added_edge['j'],added_edge['dist'])\n",
    "        G.add_edge(edge[0], edge[1], length = edge[2])\n",
    "        added_edges.append(edge)\n",
    "        tot_length.append(edge[2])\n",
    "        i = i+1\n",
    "    return G, added_edges, sum(tot_length)     "
   ]
  },
  {
   "cell_type": "code",
   "execution_count": 54,
   "metadata": {},
   "outputs": [
    {
     "ename": "KeyboardInterrupt",
     "evalue": "",
     "output_type": "error",
     "traceback": [
      "\u001b[1;31m---------------------------------------------------------------------------\u001b[0m",
      "\u001b[1;31mKeyboardInterrupt\u001b[0m                         Traceback (most recent call last)",
      "\u001b[1;32m<ipython-input-54-f6ed9f6fcc97>\u001b[0m in \u001b[0;36m<module>\u001b[1;34m\u001b[0m\n\u001b[0;32m      1\u001b[0m \u001b[0mname\u001b[0m \u001b[1;33m=\u001b[0m \u001b[1;34m'Amsterdam'\u001b[0m\u001b[1;33m\u001b[0m\u001b[1;33m\u001b[0m\u001b[0m\n\u001b[1;32m----> 2\u001b[1;33m \u001b[0mG\u001b[0m \u001b[1;33m=\u001b[0m \u001b[0mget_data\u001b[0m\u001b[1;33m(\u001b[0m\u001b[0mname\u001b[0m\u001b[1;33m)\u001b[0m\u001b[1;33m\u001b[0m\u001b[1;33m\u001b[0m\u001b[0m\n\u001b[0m\u001b[0;32m      3\u001b[0m \u001b[1;33m\u001b[0m\u001b[0m\n\u001b[0;32m      4\u001b[0m \u001b[0mG_new\u001b[0m\u001b[1;33m,\u001b[0m \u001b[0medges\u001b[0m\u001b[1;33m,\u001b[0m \u001b[0mlength\u001b[0m \u001b[1;33m=\u001b[0m \u001b[0mnew_city\u001b[0m\u001b[1;33m(\u001b[0m\u001b[0mG\u001b[0m\u001b[1;33m,\u001b[0m \u001b[0mL2S\u001b[0m\u001b[1;33m,\u001b[0m \u001b[1;36m35000\u001b[0m\u001b[1;33m)\u001b[0m\u001b[1;33m\u001b[0m\u001b[1;33m\u001b[0m\u001b[0m\n",
      "\u001b[1;32m<ipython-input-24-b7f34793aed7>\u001b[0m in \u001b[0;36mget_data\u001b[1;34m(city, mode, root_path)\u001b[0m\n\u001b[0;32m     14\u001b[0m             \u001b[0mbike_data\u001b[0m \u001b[1;33m=\u001b[0m \u001b[1;33m[\u001b[0m\u001b[0mfile\u001b[0m \u001b[1;32mfor\u001b[0m \u001b[0mfile\u001b[0m \u001b[1;32min\u001b[0m \u001b[0mfiles\u001b[0m \u001b[1;32mif\u001b[0m \u001b[0mmode\u001b[0m \u001b[1;32min\u001b[0m \u001b[0mfile\u001b[0m\u001b[1;33m]\u001b[0m\u001b[1;33m[\u001b[0m\u001b[1;36m0\u001b[0m\u001b[1;33m]\u001b[0m\u001b[1;33m\u001b[0m\u001b[1;33m\u001b[0m\u001b[0m\n\u001b[0;32m     15\u001b[0m             \u001b[0mpath\u001b[0m \u001b[1;33m=\u001b[0m \u001b[0mroot_path\u001b[0m \u001b[1;33m+\u001b[0m \u001b[0mfolder\u001b[0m\u001b[1;33m+\u001b[0m \u001b[1;34m'/'\u001b[0m\u001b[1;33m+\u001b[0m \u001b[0mbike_data\u001b[0m\u001b[1;33m;\u001b[0m\u001b[1;33m\u001b[0m\u001b[1;33m\u001b[0m\u001b[0m\n\u001b[1;32m---> 16\u001b[1;33m     \u001b[1;32mreturn\u001b[0m \u001b[0mox\u001b[0m\u001b[1;33m.\u001b[0m\u001b[0mload_graphml\u001b[0m\u001b[1;33m(\u001b[0m\u001b[1;34m'C:/Users/nlepore/ComplexityScienceProject1/data/{}/{}_bike.graphml'\u001b[0m\u001b[1;33m.\u001b[0m\u001b[0mformat\u001b[0m\u001b[1;33m(\u001b[0m\u001b[0mname\u001b[0m\u001b[1;33m,\u001b[0m\u001b[0mname\u001b[0m\u001b[1;33m)\u001b[0m\u001b[1;33m)\u001b[0m\u001b[1;33m\u001b[0m\u001b[1;33m\u001b[0m\u001b[0m\n\u001b[0m\u001b[0;32m     17\u001b[0m \u001b[1;33m\u001b[0m\u001b[0m\n\u001b[0;32m     18\u001b[0m     \u001b[1;31m#return nx.read_graphml(path)\u001b[0m\u001b[1;33m\u001b[0m\u001b[1;33m\u001b[0m\u001b[1;33m\u001b[0m\u001b[0m\n",
      "\u001b[1;32m~\\AppData\\Local\\Continuum\\anaconda3\\envs\\BikeMap\\lib\\site-packages\\osmnx\\save_load.py\u001b[0m in \u001b[0;36mload_graphml\u001b[1;34m(filename, folder, node_type)\u001b[0m\n\u001b[0;32m    331\u001b[0m         \u001b[0mfolder\u001b[0m \u001b[1;33m=\u001b[0m \u001b[0msettings\u001b[0m\u001b[1;33m.\u001b[0m\u001b[0mdata_folder\u001b[0m\u001b[1;33m\u001b[0m\u001b[1;33m\u001b[0m\u001b[0m\n\u001b[0;32m    332\u001b[0m     \u001b[0mpath\u001b[0m \u001b[1;33m=\u001b[0m \u001b[0mos\u001b[0m\u001b[1;33m.\u001b[0m\u001b[0mpath\u001b[0m\u001b[1;33m.\u001b[0m\u001b[0mjoin\u001b[0m\u001b[1;33m(\u001b[0m\u001b[0mfolder\u001b[0m\u001b[1;33m,\u001b[0m \u001b[0mfilename\u001b[0m\u001b[1;33m)\u001b[0m\u001b[1;33m\u001b[0m\u001b[1;33m\u001b[0m\u001b[0m\n\u001b[1;32m--> 333\u001b[1;33m     \u001b[0mG\u001b[0m \u001b[1;33m=\u001b[0m \u001b[0mnx\u001b[0m\u001b[1;33m.\u001b[0m\u001b[0mMultiDiGraph\u001b[0m\u001b[1;33m(\u001b[0m\u001b[0mnx\u001b[0m\u001b[1;33m.\u001b[0m\u001b[0mread_graphml\u001b[0m\u001b[1;33m(\u001b[0m\u001b[0mpath\u001b[0m\u001b[1;33m,\u001b[0m \u001b[0mnode_type\u001b[0m\u001b[1;33m=\u001b[0m\u001b[0mnode_type\u001b[0m\u001b[1;33m)\u001b[0m\u001b[1;33m)\u001b[0m\u001b[1;33m\u001b[0m\u001b[1;33m\u001b[0m\u001b[0m\n\u001b[0m\u001b[0;32m    334\u001b[0m \u001b[1;33m\u001b[0m\u001b[0m\n\u001b[0;32m    335\u001b[0m     \u001b[1;31m# convert graph crs attribute from saved string to correct dict data type\u001b[0m\u001b[1;33m\u001b[0m\u001b[1;33m\u001b[0m\u001b[1;33m\u001b[0m\u001b[0m\n",
      "\u001b[1;32m<C:\\Users\\nlepore\\AppData\\Local\\Continuum\\anaconda3\\envs\\BikeMap\\lib\\site-packages\\decorator.py:decorator-gen-752>\u001b[0m in \u001b[0;36mread_graphml\u001b[1;34m(path, node_type, edge_key_type)\u001b[0m\n",
      "\u001b[1;32m~\\AppData\\Local\\Continuum\\anaconda3\\envs\\BikeMap\\lib\\site-packages\\networkx\\utils\\decorators.py\u001b[0m in \u001b[0;36m_open_file\u001b[1;34m(func_to_be_decorated, *args, **kwargs)\u001b[0m\n\u001b[0;32m    238\u001b[0m         \u001b[1;31m# Finally, we call the original function, making sure to close the fobj\u001b[0m\u001b[1;33m\u001b[0m\u001b[1;33m\u001b[0m\u001b[1;33m\u001b[0m\u001b[0m\n\u001b[0;32m    239\u001b[0m         \u001b[1;32mtry\u001b[0m\u001b[1;33m:\u001b[0m\u001b[1;33m\u001b[0m\u001b[1;33m\u001b[0m\u001b[0m\n\u001b[1;32m--> 240\u001b[1;33m             \u001b[0mresult\u001b[0m \u001b[1;33m=\u001b[0m \u001b[0mfunc_to_be_decorated\u001b[0m\u001b[1;33m(\u001b[0m\u001b[1;33m*\u001b[0m\u001b[0mnew_args\u001b[0m\u001b[1;33m,\u001b[0m \u001b[1;33m**\u001b[0m\u001b[0mkwargs\u001b[0m\u001b[1;33m)\u001b[0m\u001b[1;33m\u001b[0m\u001b[1;33m\u001b[0m\u001b[0m\n\u001b[0m\u001b[0;32m    241\u001b[0m         \u001b[1;32mfinally\u001b[0m\u001b[1;33m:\u001b[0m\u001b[1;33m\u001b[0m\u001b[1;33m\u001b[0m\u001b[0m\n\u001b[0;32m    242\u001b[0m             \u001b[1;32mif\u001b[0m \u001b[0mclose_fobj\u001b[0m\u001b[1;33m:\u001b[0m\u001b[1;33m\u001b[0m\u001b[1;33m\u001b[0m\u001b[0m\n",
      "\u001b[1;32m~\\AppData\\Local\\Continuum\\anaconda3\\envs\\BikeMap\\lib\\site-packages\\networkx\\readwrite\\graphml.py\u001b[0m in \u001b[0;36mread_graphml\u001b[1;34m(path, node_type, edge_key_type)\u001b[0m\n\u001b[0;32m    237\u001b[0m     \u001b[0mreader\u001b[0m \u001b[1;33m=\u001b[0m \u001b[0mGraphMLReader\u001b[0m\u001b[1;33m(\u001b[0m\u001b[0mnode_type\u001b[0m\u001b[1;33m=\u001b[0m\u001b[0mnode_type\u001b[0m\u001b[1;33m,\u001b[0m \u001b[0medge_key_type\u001b[0m\u001b[1;33m=\u001b[0m\u001b[0medge_key_type\u001b[0m\u001b[1;33m)\u001b[0m\u001b[1;33m\u001b[0m\u001b[1;33m\u001b[0m\u001b[0m\n\u001b[0;32m    238\u001b[0m     \u001b[1;31m# need to check for multiple graphs\u001b[0m\u001b[1;33m\u001b[0m\u001b[1;33m\u001b[0m\u001b[1;33m\u001b[0m\u001b[0m\n\u001b[1;32m--> 239\u001b[1;33m     \u001b[0mglist\u001b[0m \u001b[1;33m=\u001b[0m \u001b[0mlist\u001b[0m\u001b[1;33m(\u001b[0m\u001b[0mreader\u001b[0m\u001b[1;33m(\u001b[0m\u001b[0mpath\u001b[0m\u001b[1;33m=\u001b[0m\u001b[0mpath\u001b[0m\u001b[1;33m)\u001b[0m\u001b[1;33m)\u001b[0m\u001b[1;33m\u001b[0m\u001b[1;33m\u001b[0m\u001b[0m\n\u001b[0m\u001b[0;32m    240\u001b[0m     \u001b[1;32mif\u001b[0m \u001b[0mlen\u001b[0m\u001b[1;33m(\u001b[0m\u001b[0mglist\u001b[0m\u001b[1;33m)\u001b[0m \u001b[1;33m==\u001b[0m \u001b[1;36m0\u001b[0m\u001b[1;33m:\u001b[0m\u001b[1;33m\u001b[0m\u001b[1;33m\u001b[0m\u001b[0m\n\u001b[0;32m    241\u001b[0m         \u001b[1;31m# If no graph comes back, try looking for an incomplete header\u001b[0m\u001b[1;33m\u001b[0m\u001b[1;33m\u001b[0m\u001b[1;33m\u001b[0m\u001b[0m\n",
      "\u001b[1;32m~\\AppData\\Local\\Continuum\\anaconda3\\envs\\BikeMap\\lib\\site-packages\\networkx\\readwrite\\graphml.py\u001b[0m in \u001b[0;36m__call__\u001b[1;34m(self, path, string)\u001b[0m\n\u001b[0;32m    733\u001b[0m         \u001b[1;33m(\u001b[0m\u001b[0mkeys\u001b[0m\u001b[1;33m,\u001b[0m \u001b[0mdefaults\u001b[0m\u001b[1;33m)\u001b[0m \u001b[1;33m=\u001b[0m \u001b[0mself\u001b[0m\u001b[1;33m.\u001b[0m\u001b[0mfind_graphml_keys\u001b[0m\u001b[1;33m(\u001b[0m\u001b[0mself\u001b[0m\u001b[1;33m.\u001b[0m\u001b[0mxml\u001b[0m\u001b[1;33m)\u001b[0m\u001b[1;33m\u001b[0m\u001b[1;33m\u001b[0m\u001b[0m\n\u001b[0;32m    734\u001b[0m         \u001b[1;32mfor\u001b[0m \u001b[0mg\u001b[0m \u001b[1;32min\u001b[0m \u001b[0mself\u001b[0m\u001b[1;33m.\u001b[0m\u001b[0mxml\u001b[0m\u001b[1;33m.\u001b[0m\u001b[0mfindall\u001b[0m\u001b[1;33m(\u001b[0m\u001b[1;34m\"{%s}graph\"\u001b[0m \u001b[1;33m%\u001b[0m \u001b[0mself\u001b[0m\u001b[1;33m.\u001b[0m\u001b[0mNS_GRAPHML\u001b[0m\u001b[1;33m)\u001b[0m\u001b[1;33m:\u001b[0m\u001b[1;33m\u001b[0m\u001b[1;33m\u001b[0m\u001b[0m\n\u001b[1;32m--> 735\u001b[1;33m             \u001b[1;32myield\u001b[0m \u001b[0mself\u001b[0m\u001b[1;33m.\u001b[0m\u001b[0mmake_graph\u001b[0m\u001b[1;33m(\u001b[0m\u001b[0mg\u001b[0m\u001b[1;33m,\u001b[0m \u001b[0mkeys\u001b[0m\u001b[1;33m,\u001b[0m \u001b[0mdefaults\u001b[0m\u001b[1;33m)\u001b[0m\u001b[1;33m\u001b[0m\u001b[1;33m\u001b[0m\u001b[0m\n\u001b[0m\u001b[0;32m    736\u001b[0m \u001b[1;33m\u001b[0m\u001b[0m\n\u001b[0;32m    737\u001b[0m     \u001b[1;32mdef\u001b[0m \u001b[0mmake_graph\u001b[0m\u001b[1;33m(\u001b[0m\u001b[0mself\u001b[0m\u001b[1;33m,\u001b[0m \u001b[0mgraph_xml\u001b[0m\u001b[1;33m,\u001b[0m \u001b[0mgraphml_keys\u001b[0m\u001b[1;33m,\u001b[0m \u001b[0mdefaults\u001b[0m\u001b[1;33m,\u001b[0m \u001b[0mG\u001b[0m\u001b[1;33m=\u001b[0m\u001b[1;32mNone\u001b[0m\u001b[1;33m)\u001b[0m\u001b[1;33m:\u001b[0m\u001b[1;33m\u001b[0m\u001b[1;33m\u001b[0m\u001b[0m\n",
      "\u001b[1;32m~\\AppData\\Local\\Continuum\\anaconda3\\envs\\BikeMap\\lib\\site-packages\\networkx\\readwrite\\graphml.py\u001b[0m in \u001b[0;36mmake_graph\u001b[1;34m(self, graph_xml, graphml_keys, defaults, G)\u001b[0m\n\u001b[0;32m    760\u001b[0m         \u001b[1;31m# add nodes\u001b[0m\u001b[1;33m\u001b[0m\u001b[1;33m\u001b[0m\u001b[1;33m\u001b[0m\u001b[0m\n\u001b[0;32m    761\u001b[0m         \u001b[1;32mfor\u001b[0m \u001b[0mnode_xml\u001b[0m \u001b[1;32min\u001b[0m \u001b[0mgraph_xml\u001b[0m\u001b[1;33m.\u001b[0m\u001b[0mfindall\u001b[0m\u001b[1;33m(\u001b[0m\u001b[1;34m\"{%s}node\"\u001b[0m \u001b[1;33m%\u001b[0m \u001b[0mself\u001b[0m\u001b[1;33m.\u001b[0m\u001b[0mNS_GRAPHML\u001b[0m\u001b[1;33m)\u001b[0m\u001b[1;33m:\u001b[0m\u001b[1;33m\u001b[0m\u001b[1;33m\u001b[0m\u001b[0m\n\u001b[1;32m--> 762\u001b[1;33m             \u001b[0mself\u001b[0m\u001b[1;33m.\u001b[0m\u001b[0madd_node\u001b[0m\u001b[1;33m(\u001b[0m\u001b[0mG\u001b[0m\u001b[1;33m,\u001b[0m \u001b[0mnode_xml\u001b[0m\u001b[1;33m,\u001b[0m \u001b[0mgraphml_keys\u001b[0m\u001b[1;33m,\u001b[0m \u001b[0mdefaults\u001b[0m\u001b[1;33m)\u001b[0m\u001b[1;33m\u001b[0m\u001b[1;33m\u001b[0m\u001b[0m\n\u001b[0m\u001b[0;32m    763\u001b[0m         \u001b[1;31m# add edges\u001b[0m\u001b[1;33m\u001b[0m\u001b[1;33m\u001b[0m\u001b[1;33m\u001b[0m\u001b[0m\n\u001b[0;32m    764\u001b[0m         \u001b[1;32mfor\u001b[0m \u001b[0medge_xml\u001b[0m \u001b[1;32min\u001b[0m \u001b[0mgraph_xml\u001b[0m\u001b[1;33m.\u001b[0m\u001b[0mfindall\u001b[0m\u001b[1;33m(\u001b[0m\u001b[1;34m\"{%s}edge\"\u001b[0m \u001b[1;33m%\u001b[0m \u001b[0mself\u001b[0m\u001b[1;33m.\u001b[0m\u001b[0mNS_GRAPHML\u001b[0m\u001b[1;33m)\u001b[0m\u001b[1;33m:\u001b[0m\u001b[1;33m\u001b[0m\u001b[1;33m\u001b[0m\u001b[0m\n",
      "\u001b[1;32m~\\AppData\\Local\\Continuum\\anaconda3\\envs\\BikeMap\\lib\\site-packages\\networkx\\readwrite\\graphml.py\u001b[0m in \u001b[0;36madd_node\u001b[1;34m(self, G, node_xml, graphml_keys, defaults)\u001b[0m\n\u001b[0;32m    788\u001b[0m         \u001b[0mnode_id\u001b[0m \u001b[1;33m=\u001b[0m \u001b[0mself\u001b[0m\u001b[1;33m.\u001b[0m\u001b[0mnode_type\u001b[0m\u001b[1;33m(\u001b[0m\u001b[0mnode_xml\u001b[0m\u001b[1;33m.\u001b[0m\u001b[0mget\u001b[0m\u001b[1;33m(\u001b[0m\u001b[1;34m\"id\"\u001b[0m\u001b[1;33m)\u001b[0m\u001b[1;33m)\u001b[0m\u001b[1;33m\u001b[0m\u001b[1;33m\u001b[0m\u001b[0m\n\u001b[0;32m    789\u001b[0m         \u001b[1;31m# get data/attributes for node\u001b[0m\u001b[1;33m\u001b[0m\u001b[1;33m\u001b[0m\u001b[1;33m\u001b[0m\u001b[0m\n\u001b[1;32m--> 790\u001b[1;33m         \u001b[0mdata\u001b[0m \u001b[1;33m=\u001b[0m \u001b[0mself\u001b[0m\u001b[1;33m.\u001b[0m\u001b[0mdecode_data_elements\u001b[0m\u001b[1;33m(\u001b[0m\u001b[0mgraphml_keys\u001b[0m\u001b[1;33m,\u001b[0m \u001b[0mnode_xml\u001b[0m\u001b[1;33m)\u001b[0m\u001b[1;33m\u001b[0m\u001b[1;33m\u001b[0m\u001b[0m\n\u001b[0m\u001b[0;32m    791\u001b[0m         \u001b[0mG\u001b[0m\u001b[1;33m.\u001b[0m\u001b[0madd_node\u001b[0m\u001b[1;33m(\u001b[0m\u001b[0mnode_id\u001b[0m\u001b[1;33m,\u001b[0m \u001b[1;33m**\u001b[0m\u001b[0mdata\u001b[0m\u001b[1;33m)\u001b[0m\u001b[1;33m\u001b[0m\u001b[1;33m\u001b[0m\u001b[0m\n\u001b[0;32m    792\u001b[0m         \u001b[1;31m# get child nodes\u001b[0m\u001b[1;33m\u001b[0m\u001b[1;33m\u001b[0m\u001b[1;33m\u001b[0m\u001b[0m\n",
      "\u001b[1;32m~\\AppData\\Local\\Continuum\\anaconda3\\envs\\BikeMap\\lib\\site-packages\\networkx\\readwrite\\graphml.py\u001b[0m in \u001b[0;36mdecode_data_elements\u001b[1;34m(self, graphml_keys, obj_xml)\u001b[0m\n\u001b[0;32m    855\u001b[0m                     \u001b[0mdata\u001b[0m\u001b[1;33m[\u001b[0m\u001b[0mdata_name\u001b[0m\u001b[1;33m]\u001b[0m \u001b[1;33m=\u001b[0m \u001b[0mself\u001b[0m\u001b[1;33m.\u001b[0m\u001b[0mconvert_bool\u001b[0m\u001b[1;33m[\u001b[0m\u001b[0mtext\u001b[0m\u001b[1;33m.\u001b[0m\u001b[0mlower\u001b[0m\u001b[1;33m(\u001b[0m\u001b[1;33m)\u001b[0m\u001b[1;33m]\u001b[0m\u001b[1;33m\u001b[0m\u001b[1;33m\u001b[0m\u001b[0m\n\u001b[0;32m    856\u001b[0m                 \u001b[1;32melse\u001b[0m\u001b[1;33m:\u001b[0m\u001b[1;33m\u001b[0m\u001b[1;33m\u001b[0m\u001b[0m\n\u001b[1;32m--> 857\u001b[1;33m                     \u001b[0mdata\u001b[0m\u001b[1;33m[\u001b[0m\u001b[0mdata_name\u001b[0m\u001b[1;33m]\u001b[0m \u001b[1;33m=\u001b[0m \u001b[0mdata_type\u001b[0m\u001b[1;33m(\u001b[0m\u001b[0mtext\u001b[0m\u001b[1;33m)\u001b[0m\u001b[1;33m\u001b[0m\u001b[1;33m\u001b[0m\u001b[0m\n\u001b[0m\u001b[0;32m    858\u001b[0m             \u001b[1;32melif\u001b[0m \u001b[0mlen\u001b[0m\u001b[1;33m(\u001b[0m\u001b[0mlist\u001b[0m\u001b[1;33m(\u001b[0m\u001b[0mdata_element\u001b[0m\u001b[1;33m)\u001b[0m\u001b[1;33m)\u001b[0m \u001b[1;33m>\u001b[0m \u001b[1;36m0\u001b[0m\u001b[1;33m:\u001b[0m\u001b[1;33m\u001b[0m\u001b[1;33m\u001b[0m\u001b[0m\n\u001b[0;32m    859\u001b[0m                 \u001b[1;31m# Assume yfiles as subelements, try to extract node_label\u001b[0m\u001b[1;33m\u001b[0m\u001b[1;33m\u001b[0m\u001b[1;33m\u001b[0m\u001b[0m\n",
      "\u001b[1;31mKeyboardInterrupt\u001b[0m: "
     ]
    }
   ],
   "source": [
    "name = 'Amsterdam'\n",
    "G = get_data(name)\n",
    "\n",
    "G_new, edges, length = new_city(G, L2S, 35000)"
   ]
  },
  {
   "cell_type": "code",
   "execution_count": null,
   "metadata": {},
   "outputs": [],
   "source": [
    "ox.plot_graph(G_new)"
   ]
  },
  {
   "cell_type": "code",
   "execution_count": 52,
   "metadata": {},
   "outputs": [
    {
     "data": {
      "text/plain": [
       "[(824620150, 174101627, 1207.129340637136),\n",
       " (1342036774, 30153896, 2745.060281655068),\n",
       " (123892541, 808367492, 34.04993383654771),\n",
       " (46565157, 5324097817, 4274.262644050204),\n",
       " (46515337, 46313604, 6738.97290886752),\n",
       " (1509163403, 286565233, 11064.33901629516),\n",
       " (46235775, 46467690, 6887.574948240108),\n",
       " (46467276, 1332094219, 3034.4038941095473)]"
      ]
     },
     "execution_count": 52,
     "metadata": {},
     "output_type": "execute_result"
    }
   ],
   "source": [
    "sum(lengths)\n",
    "edges"
   ]
  },
  {
   "cell_type": "code",
   "execution_count": null,
   "metadata": {},
   "outputs": [],
   "source": []
  }
 ],
 "metadata": {
  "kernelspec": {
   "display_name": "Python 3",
   "language": "python",
   "name": "python3"
  },
  "language_info": {
   "codemirror_mode": {
    "name": "ipython",
    "version": 3
   },
   "file_extension": ".py",
   "mimetype": "text/x-python",
   "name": "python",
   "nbconvert_exporter": "python",
   "pygments_lexer": "ipython3",
   "version": "3.6.7"
  }
 },
 "nbformat": 4,
 "nbformat_minor": 2
}
