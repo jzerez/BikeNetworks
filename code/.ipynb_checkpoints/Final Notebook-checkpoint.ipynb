{
 "cells": [
  {
   "cell_type": "markdown",
   "metadata": {},
   "source": [
    "# Investigating Methodologies for Increasing the Effectiveness of Transportation Networks\n",
    "\n",
    "## Complexity Science Project 1\n",
    "### Jonathan Zerez, Nathan Lepore"
   ]
  },
  {
   "cell_type": "markdown",
   "metadata": {},
   "source": [
    "First, load the data from Open Street View into OSMNX DiGraph Objects. Additionally, recast the length fields to be floats instead of strings. The possible cities to view are ** Amsterdam, Detroit, Copenhagen, and Manhattan. **"
   ]
  },
  {
   "cell_type": "code",
   "execution_count": 12,
   "metadata": {
    "collapsed": true,
    "scrolled": true
   },
   "outputs": [],
   "source": [
    "import numpy as np\n",
    "import networkx as nx\n",
    "import os\n",
    "import osmnx as ox\n",
    "import time\n",
    "import matplotlib.pyplot as plt\n",
    "\n",
    "def convert_lengths_to_floats(G):\n",
    "    \"\"\"\n",
    "    Changes the attributes of the edges of graph G such that the 'length' field\n",
    "    is a float rather than a string\n",
    "    \"\"\"\n",
    "    for u, v, d in list(G.edges(data=True)):\n",
    "        d['length'] = float(d['length'])\n",
    "\n",
    "\n",
    "# Call this function to get the data \n",
    "def get_data(city='Detroit', mode='bike'):\n",
    "    '''\n",
    "    Loads city transportation network data for a specified mode of transportation\n",
    "    city: The string of the city to use. Included in this project are Detroit, Amsterdam, Copenhagen, and Manhattan\n",
    "    mode: The mode of transportation to import.\n",
    "    '''\n",
    "    G = ox.load_graphml('{}_{}.graphml'.format(city, mode), folder='../data/{}/'.format(city))\n",
    "    convert_lengths_to_floats(G)\n",
    "    return G\n"
   ]
  },
  {
   "cell_type": "markdown",
   "metadata": {},
   "source": [
    "#### Define helper functions to compute metrics"
   ]
  },
  {
   "cell_type": "code",
   "execution_count": 7,
   "metadata": {
    "collapsed": true
   },
   "outputs": [],
   "source": [
    "def calc_directness(G, u, v):\n",
    "    \"\"\"\n",
    "        Calculate the directness between two nodes u and v\n",
    "        Directness is the ratio between:\n",
    "            - the shortest node path length (number of edges times the length of each edge)\n",
    "            - the straight line distance between those two nodes\n",
    "        If v cannot be reached from u, then directness is zero\n",
    "        \n",
    "        G: An nx graph\n",
    "        u: the starting node\n",
    "        v: the ending node\n",
    "        \n",
    "    \"\"\"\n",
    "    try:\n",
    "        path_length = nx.shortest_path_length(G, source=u, target=v, weight='length')\n",
    "        direct_length = new_edge_length(G, u, v)\n",
    "        ret = direct_length/path_length\n",
    "    except:\n",
    "        return 0\n",
    "    return ret\n",
    "\n",
    "\n",
    "def calc_avg_directness(G, pairs):\n",
    "    \"\"\"\n",
    "    Calculates the average directness of n pairs of nodes. All of these nodes are already connected.\n",
    "    G: An nx graph\n",
    "    n: The number of pairs to use\n",
    "    \"\"\"\n",
    "    d = 0\n",
    "    n = len(pairs)\n",
    "    for pair in pairs:\n",
    "        d += calc_directness(G, pair[0], pair[1]) / n\n",
    "\n",
    "    return d\n",
    "        \n",
    "\n",
    "def get_components(G):\n",
    "    '''\n",
    "    Get the connected components of G\n",
    "    G: An nx graph\n",
    "    \n",
    "    Outputs\n",
    "    wcc: A list of the components sorted by size\n",
    "    '''\n",
    "    wcc = [cc for cc in nx.weakly_connected_component_subgraphs(G)]\n",
    "    wcc.sort(key=len, reverse=True)\n",
    "    return wcc\n",
    "\n",
    "def calc_lcc(G):\n",
    "    '''\n",
    "    Returns the number of nodes in the largest component of graph G\n",
    "    G: An nx graph\n",
    "    '''\n",
    "    wcc = get_components(G)\n",
    "    return len(wcc[0])\n",
    "\n",
    "def euclidean_dist_vec(y1, x1, y2, x2):\n",
    "    '''\n",
    "    Calculate the euclidean distance between two points.\n",
    "    '''\n",
    "    distance = ((x1 - x2) ** 2 + (y1 - y2) ** 2) ** 0.5\n",
    "    return distance\n",
    "\n",
    "def connectedness(G):\n",
    "    N = len(G)\n",
    "    wcc = get_components(G)\n",
    "    largest = wcc[0]\n",
    "    N_ = len(largest)\n",
    "    return N_/N\n",
    "\n",
    "def make_random_pairs(G_bike, G_car, n = 250):\n",
    "    '''\n",
    "    Creates n pairs of random nodes from graph G\n",
    "    G: an nx graph\n",
    "    n: the number of pairs to return\n",
    "    '''\n",
    "    bike_pairs = []\n",
    "    car_pairs = []\n",
    "    for _ in range(n):\n",
    "        bike_pair = np.random.choice(G_bike.nodes(), 2)\n",
    "        b1 = G_bike.nodes[bike_pair[0]]\n",
    "        b2 = G_bike.nodes[bike_pair[1]]\n",
    "        bike_pairs.append(bike_pair)\n",
    "                \n",
    "\n",
    "        u = ox.get_nearest_node(G_car, (b1['x'], b1['y']))\n",
    "        v = ox.get_nearest_node(G_car, (b2['x'], b2['y']))\n",
    "        car_pairs.append((u,v))\n",
    "    return bike_pairs, car_pairs"
   ]
  },
  {
   "cell_type": "markdown",
   "metadata": {},
   "source": [
    "#### Define Methods for connecting the Graphs"
   ]
  },
  {
   "cell_type": "code",
   "execution_count": 8,
   "metadata": {
    "collapsed": true
   },
   "outputs": [],
   "source": [
    "def L2S(wcc):\n",
    "    '''\n",
    "    Largest to Second Algorithm\n",
    "    Find the closest pair of nodes between the largest component of the graph, and the second largest component\n",
    "    ---\n",
    "    wcc: list connected components\n",
    "\n",
    "    returns: dict nodes i and j and distance\n",
    "    '''\n",
    "    closest_pair = {'i': 0, 'j': 0, 'dist': np.inf}\n",
    "    for i in wcc[0].nodes(data=True):\n",
    "        i_coord = (i[1]['y'], i[1]['x'])\n",
    "        for j in wcc[1].nodes(data=True):\n",
    "            j_coord = (j[1]['y'], j[1]['x'])\n",
    "            dist = euclidean_dist_vec(i_coord[0], i_coord[1], j_coord[0], j_coord[1])\n",
    "            if dist < closest_pair['dist']:\n",
    "                closest_pair['i'] = i[0]\n",
    "                closest_pair['j'] = j[0]\n",
    "                closest_pair['dist'] = dist\n",
    "    return closest_pair\n",
    "\n",
    "def L2C(wcc):\n",
    "    '''\n",
    "    Largest to Closest Algorithm\n",
    "    Find the closest pair of nodes between the largest component of the graph, and the closest other component\n",
    "    ---\n",
    "    wcc: list connected components\n",
    "\n",
    "    returns: dict nodes i and j and distance\n",
    "    '''\n",
    "    closest_pair = {'i': 0, 'j': 0, 'dist': np.inf}\n",
    "    for i in wcc[0].nodes(data=True):\n",
    "        i_coord = (i[1]['y'], i[1]['x'])\n",
    "        for j in wcc[1:]:\n",
    "            for k in j.nodes(data=True):\n",
    "                j_coord = (k[1]['y'], k[1]['x'])\n",
    "                dist = euclidean_dist_vec(float(i_coord[0]), float(i_coord[1]), float(j_coord[0]), float(j_coord[1]))\n",
    "                if dist < closest_pair['dist']:\n",
    "                    closest_pair['i'] = i[0]\n",
    "                    closest_pair['j'] = k[0]\n",
    "                    closest_pair['dist'] = dist\n",
    "    return closest_pair\n",
    "\n",
    "def R2C(wcc):\n",
    "    '''\n",
    "    Random to Closest Algorithm\n",
    "    Find the closest pair of nodes between two a random component of the graph, and the closest other component\n",
    "    ---\n",
    "    wcc: list connected components\n",
    "\n",
    "    returns: dict nodes i and j and distance\n",
    "    '''\n",
    "    closest_pair = {'i': 0, 'j': 0, 'dist': np.inf}\n",
    "    num_clusters = len(wcc)\n",
    "    cluster = np.random.choice(len(wcc))\n",
    "    for i in wcc[cluster].nodes(data=True):\n",
    "        i_coord = (i[1]['y'], i[1]['x'])\n",
    "        for w,j in enumerate(wcc[1:]):\n",
    "            if w == cluster - 1:\n",
    "                break\n",
    "            for k in j.nodes(data=True):\n",
    "                j_coord = (k[1]['y'], k[1]['x'])\n",
    "                dist = euclidean_dist_vec(float(i_coord[0]), float(i_coord[1]), float(j_coord[0]), float(j_coord[1]))\n",
    "                if dist < closest_pair['dist']:\n",
    "                    closest_pair['i'] = i[0]\n",
    "                    closest_pair['j'] = k[0]\n",
    "                    closest_pair['dist'] = dist\n",
    "    return closest_pair\n",
    "\n",
    "def Closest(wcc):\n",
    "    '''\n",
    "    Closest Algorithm\n",
    "    Find the closest pair of nodes between the two closest components in the graph\n",
    "    ---\n",
    "    wcc: list connected components\n",
    "\n",
    "    returns: dict nodes i and j and distance\n",
    "    '''\n",
    "    closest_pair = {'i': 0, 'j': 0, 'dist': np.inf}\n",
    "    for v,i in enumerate(wcc[0:]):\n",
    "            for u in i.nodes(data=True):\n",
    "                i_coord = (u[1]['y'], u[1]['x'])\n",
    "                for w,j in enumerate(wcc[0:]):\n",
    "                    if w == v:\n",
    "                        break\n",
    "                    for k in j.nodes(data=True):\n",
    "                        j_coord = (k[1]['y'], k[1]['x'])\n",
    "                        dist = euclidean_dist_vec(float(i_coord[0]), float(i_coord[1]), float(j_coord[0]), float(j_coord[1]))\n",
    "                        if dist < closest_pair['dist']:\n",
    "                            closest_pair['i'] = u[0]\n",
    "                            closest_pair['j'] = k[0]\n",
    "                            closest_pair['dist'] = dist\n",
    "    return closest_pair\n"
   ]
  },
  {
   "cell_type": "markdown",
   "metadata": {},
   "source": [
    "### Define a function to apply an algorithm to a city, and return the computed results for each edge added to the graph"
   ]
  },
  {
   "cell_type": "code",
   "execution_count": 9,
   "metadata": {
    "collapsed": true
   },
   "outputs": [],
   "source": [
    "def new_city(G, algy, length, random_pairs, debug=False):\n",
    "    \"\"\"\n",
    "    G = an NX Digraph\n",
    "    algy = desired path-adding algorithm\n",
    "    length = total length of bike path to add (meters)\n",
    "    random_pairs = A list of random pairs of nodes used to caclulate directness\n",
    "    \n",
    "    \"\"\"\n",
    "    added_edges = []\n",
    "    tot_length = [0]\n",
    "    directness_random = []\n",
    "    lccs = []\n",
    "    connectedness_rank = []\n",
    "\n",
    "    while sum(tot_length) < length:\n",
    "        wcc = get_components(G)\n",
    "        if debug:\n",
    "            print(sum(tot_length) / length, '% Complete')\n",
    "        lccs.append(len(wcc[0]))\n",
    "        directness_random.append(calc_avg_directness(G, random_pairs))\n",
    "        \n",
    "        connected_rank = connectedness_rank.append(connectedness(G))\n",
    "        added_edge = algy(wcc)\n",
    "        edge = (added_edge['i'],added_edge['j'],added_edge['dist'])\n",
    "        G.add_edge(edge[0], edge[1], length = edge[2])\n",
    "        added_edges.append(edge)\n",
    "        tot_length.append(edge[2])\n",
    "        \n",
    "    wcc = get_components(G)\n",
    "    lccs.append(len(wcc[0]))\n",
    "    directness_random.append(calc_avg_directness(G, random_pairs))\n",
    "\n",
    "    connected_rank = connectedness_rank.append(connectedness(G))\n",
    "    return G, added_edges, tot_length, directness_random, lccs, connectedness_rank"
   ]
  },
  {
   "cell_type": "markdown",
   "metadata": {},
   "source": [
    "### Run the study!\n",
    "We will start wtih Detroit and the L2S algorithm"
   ]
  },
  {
   "cell_type": "code",
   "execution_count": 10,
   "metadata": {},
   "outputs": [
    {
     "data": {
      "text/plain": [
       "0.0"
      ]
     },
     "execution_count": 10,
     "metadata": {},
     "output_type": "execute_result"
    }
   ],
   "source": [
    "name = 'Detroit'\n",
    "G_bikes = get_data(name)\n",
    "G_cars = get_data(name, mode='drive')\n",
    "\n",
    "bike_pairs, car_pairs = make_random_pairs(G_bikes, G_cars, n=500)\n",
    "calc_avg_directness(G_bikes, bike_pairs)\n",
    "G_new, edges, lengths, directness, lccs, connectedness_rank = new_city(G_bikes, L2S, 30000, bike_pairs)"
   ]
  },
  {
   "cell_type": "markdown",
   "metadata": {},
   "source": [
    "### Plot the results"
   ]
  },
  {
   "cell_type": "code",
   "execution_count": 6,
   "metadata": {
    "scrolled": false
   },
   "outputs": [
    {
     "ename": "NameError",
     "evalue": "name 'lengths' is not defined",
     "output_type": "error",
     "traceback": [
      "\u001b[1;31m---------------------------------------------------------------------------\u001b[0m",
      "\u001b[1;31mNameError\u001b[0m                                 Traceback (most recent call last)",
      "\u001b[1;32m<ipython-input-6-adb2a2efa092>\u001b[0m in \u001b[0;36m<module>\u001b[1;34m()\u001b[0m\n\u001b[1;32m----> 1\u001b[1;33m \u001b[0mplt\u001b[0m\u001b[1;33m.\u001b[0m\u001b[0mplot\u001b[0m\u001b[1;33m(\u001b[0m\u001b[0mnp\u001b[0m\u001b[1;33m.\u001b[0m\u001b[0mcumsum\u001b[0m\u001b[1;33m(\u001b[0m\u001b[0mlengths\u001b[0m\u001b[1;33m)\u001b[0m\u001b[1;33m,\u001b[0m \u001b[0mdirectness\u001b[0m\u001b[1;33m)\u001b[0m\u001b[1;33m\u001b[0m\u001b[0m\n\u001b[0m\u001b[0;32m      2\u001b[0m \u001b[0mplt\u001b[0m\u001b[1;33m.\u001b[0m\u001b[0mshow\u001b[0m\u001b[1;33m(\u001b[0m\u001b[1;33m)\u001b[0m\u001b[1;33m\u001b[0m\u001b[0m\n",
      "\u001b[1;31mNameError\u001b[0m: name 'lengths' is not defined"
     ]
    }
   ],
   "source": [
    "plt.plot(np.cumsum(lengths), directness - directness[0])\n",
    "plt.plot(np.cumsum(lengths), lccs)\n",
    "plt.show()"
   ]
  },
  {
   "cell_type": "markdown",
   "metadata": {},
   "source": [
    "### Define a function to determine whether a car or a bike is taken for a certain route"
   ]
  },
  {
   "cell_type": "code",
   "execution_count": 13,
   "metadata": {
    "collapsed": true
   },
   "outputs": [],
   "source": [
    "def route_decision(directness_bike, directness_car, threshold):\n",
    "    '''\n",
    "    directness_bike: The directness of taking a bike between two different nodes\n",
    "    directness_car: The directness of taking a car between two different nodes\n",
    "    threshold: decision threshold (from zero to one)\n",
    "        if threshold == 1: the user will always choose to bike\n",
    "        if threshold == 0.5: the user will always choose the more efficient route\n",
    "        if threshold == 0: the user will always choose to drive\n",
    "    \n",
    "    returns 1 if the user bikes\n",
    "    returns 0 if the user drives\n",
    "    '''\n",
    "    dcar = directness_car**-1\n",
    "    dbike = directness_bike**-1\n",
    "    \n",
    "    return (1-threshold)*dbike < (threshold)*dcar\n",
    "        "
   ]
  },
  {
   "cell_type": "code",
   "execution_count": null,
   "metadata": {
    "collapsed": true
   },
   "outputs": [],
   "source": [
    "# Average directness for the car layer\n",
    "rcc = calc_avg_directness(G_cars, car_pairs) \n",
    "# Number of threshold values to test\n",
    "nthresh = 101\n",
    "thresholds = np.linspace(0, 1, nthresh)\n",
    "ds = np.empty((nthresh, len(directness)))\n",
    "\n",
    "# Iterate over the possible directness and threshold values\n",
    "for i in range(len(directness)):\n",
    "    for j in range(nthresh):\n",
    "        bcc = directness[i]\n",
    "        ds[j][i] = route_decision(bcc, rcc, thresholds[j])\n",
    "\n",
    "# plot data\n",
    "plt.imshow(ds, interpolation='nearest', aspect='auto')\n",
    "plt.xticks(np.arange(0, len(lengths), step = 3), np.round(np.cumsum(lengths)[::3], decimals=3), rotation=45)\n",
    "plt.yticks(np.arange(0, nthresh, step=10), np.round(thresholds[::10], decimals=1))\n",
    "plt.colorbar()\n",
    "\n",
    "plt.xlabel('Length of Road Added (m)')\n",
    "plt.ylabel('Threshold')\n",
    "plt.title('Driving vs. Biking Threshold vs Length of Road Added')\n",
    "plt.show()"
   ]
  }
 ],
 "metadata": {
  "kernelspec": {
   "display_name": "Python 3",
   "language": "python",
   "name": "python3"
  },
  "language_info": {
   "codemirror_mode": {
    "name": "ipython",
    "version": 3
   },
   "file_extension": ".py",
   "mimetype": "text/x-python",
   "name": "python",
   "nbconvert_exporter": "python",
   "pygments_lexer": "ipython3",
   "version": "3.6.2"
  }
 },
 "nbformat": 4,
 "nbformat_minor": 2
}
