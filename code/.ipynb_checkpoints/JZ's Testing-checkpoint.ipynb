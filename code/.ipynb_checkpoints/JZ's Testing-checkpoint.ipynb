{
 "cells": [
  {
   "cell_type": "code",
   "execution_count": 7,
   "metadata": {},
   "outputs": [
    {
     "name": "stdout",
     "output_type": "stream",
     "text": [
      "<class 'networkx.classes.digraph.DiGraph'>\n"
     ]
    }
   ],
   "source": [
    "import numpy as np\n",
    "import networkx as nx\n",
    "import os\n",
    "\n",
    "# Call this function to get the data \n",
    "def get_data(city='Detroit', mode='bike', root_path='../data/'):\n",
    "    folders = os.listdir(root_path)\n",
    "    for folder in folders:\n",
    "        if folder == city:\n",
    "            files = os.listdir(root_path+folder)\n",
    "            bike_data = [file for file in files if mode in file][0]\n",
    "            path = root_path + folder+ '/'+ bike_data;\n",
    "    return nx.read_graphml(path)\n",
    "\n",
    "G = get_data()\n",
    "print(type(G))"
   ]
  },
  {
   "cell_type": "code",
   "execution_count": 8,
   "metadata": {},
   "outputs": [
    {
     "ename": "KeyError",
     "evalue": "'6316199'",
     "output_type": "error",
     "traceback": [
      "\u001b[1;31m---------------------------------------------------------------------------\u001b[0m",
      "\u001b[1;31mKeyError\u001b[0m                                  Traceback (most recent call last)",
      "\u001b[1;32m<ipython-input-8-70582d63d813>\u001b[0m in \u001b[0;36m<module>\u001b[1;34m()\u001b[0m\n\u001b[0;32m      2\u001b[0m \u001b[1;31m#     print(d)\u001b[0m\u001b[1;33m\u001b[0m\u001b[1;33m\u001b[0m\u001b[0m\n\u001b[0;32m      3\u001b[0m \u001b[0mn\u001b[0m\u001b[1;33m=\u001b[0m\u001b[1;34m'6316199'\u001b[0m\u001b[1;33m\u001b[0m\u001b[0m\n\u001b[1;32m----> 4\u001b[1;33m \u001b[0mG\u001b[0m\u001b[1;33m.\u001b[0m\u001b[0mnodes\u001b[0m\u001b[1;33m[\u001b[0m\u001b[0mn\u001b[0m\u001b[1;33m]\u001b[0m\u001b[1;33m[\u001b[0m\u001b[1;34m'x'\u001b[0m\u001b[1;33m]\u001b[0m\u001b[1;33m\u001b[0m\u001b[0m\n\u001b[0m",
      "\u001b[1;32mC:\\ProgramData\\Miniconda3\\lib\\site-packages\\networkx\\classes\\reportviews.py\u001b[0m in \u001b[0;36m__getitem__\u001b[1;34m(self, n)\u001b[0m\n\u001b[0;32m    176\u001b[0m \u001b[1;33m\u001b[0m\u001b[0m\n\u001b[0;32m    177\u001b[0m     \u001b[1;32mdef\u001b[0m \u001b[0m__getitem__\u001b[0m\u001b[1;33m(\u001b[0m\u001b[0mself\u001b[0m\u001b[1;33m,\u001b[0m \u001b[0mn\u001b[0m\u001b[1;33m)\u001b[0m\u001b[1;33m:\u001b[0m\u001b[1;33m\u001b[0m\u001b[0m\n\u001b[1;32m--> 178\u001b[1;33m         \u001b[1;32mreturn\u001b[0m \u001b[0mself\u001b[0m\u001b[1;33m.\u001b[0m\u001b[0m_nodes\u001b[0m\u001b[1;33m[\u001b[0m\u001b[0mn\u001b[0m\u001b[1;33m]\u001b[0m\u001b[1;33m\u001b[0m\u001b[0m\n\u001b[0m\u001b[0;32m    179\u001b[0m \u001b[1;33m\u001b[0m\u001b[0m\n\u001b[0;32m    180\u001b[0m     \u001b[1;31m# Set methods\u001b[0m\u001b[1;33m\u001b[0m\u001b[1;33m\u001b[0m\u001b[0m\n",
      "\u001b[1;31mKeyError\u001b[0m: '6316199'"
     ]
    }
   ],
   "source": [
    "# for n, d in list(G.nodes(data=True)):\n",
    "#     print(d)\n",
    "n='6316199'\n",
    "G.nodes[n]['x']"
   ]
  },
  {
   "cell_type": "code",
   "execution_count": 10,
   "metadata": {},
   "outputs": [],
   "source": [
    "# print(G.edges(('6316199', '1360288038'), data=True))\n",
    "\n",
    "for u, v, d in list(G.edges(data=True)):\n",
    "    d['length'] = float(d['length'])\n",
    "\n",
    "# G.edges(('6316199', '1360288038'), data=True)"
   ]
  },
  {
   "cell_type": "code",
   "execution_count": 11,
   "metadata": {
    "collapsed": true
   },
   "outputs": [],
   "source": [
    "def pick_random(G, num=2):\n",
    "    nodes = np.random.choice(G.nodes(), num)\n",
    "    return nodes\n",
    "\n",
    "def compute_path_lengths(num=1000):\n",
    "    failed = 0\n",
    "    path_length = 0\n",
    "    for i in range(num): \n",
    "        u,v = pick_random(G)\n",
    "        try: \n",
    "            path_length += nx.shortest_path_length(G, source=u, target=v, weight='length')\n",
    "        except:\n",
    "            failed += 1\n",
    "    return failed/num, path_length\n",
    "        "
   ]
  },
  {
   "cell_type": "code",
   "execution_count": 12,
   "metadata": {},
   "outputs": [
    {
     "name": "stdout",
     "output_type": "stream",
     "text": [
      "0.912568306010929 3822.3744687500002\n"
     ]
    }
   ],
   "source": [
    "num = len(G.nodes()) // 10\n",
    "failed, path_length = compute_path_lengths(num)\n",
    "print(failed, path_length/(num*(1-failed)))\n"
   ]
  },
  {
   "cell_type": "code",
   "execution_count": 43,
   "metadata": {
    "collapsed": true
   },
   "outputs": [],
   "source": [
    "def new_edge_length(G, u=None, v=None):\n",
    "    \"\"\"\n",
    "        given two nodes in graph G, return the straight line distance (as the crow flies) between them\n",
    "    \"\"\"\n",
    "    if not u and not v:\n",
    "        # randomly choose u and v\n",
    "        pass\n",
    "        u, v = np.random.choice(G.nodes(), 2)\n",
    "        while v in G[u]:\n",
    "            u,v = np.random.choice(G.nodes(), 2)\n",
    "            \n",
    "    elif not u and v:\n",
    "        # randomly choose u\n",
    "        pass\n",
    "        u = pick_random(G, 1)\n",
    "        while v in G[u]:\n",
    "            u = np.random.choice(G.nodes(), 1)\n",
    "            \n",
    "    elif u and not v:\n",
    "        pass\n",
    "        # randomly choose v\n",
    "        v = pick_random(G, 1)\n",
    "        while v in G[u]:\n",
    "            u = np.random.choice(G.nodes(), 1)\n",
    "    \n",
    "    xdist = float(G.nodes[u]['x']) - float(G.nodes[v]['x'])\n",
    "    ydist = float(G.nodes[u]['y']) - float(G.nodes[v]['y'])\n",
    "    length = (xdist**2 + ydist**2)**0.5\n",
    "    return length\n",
    "\n",
    "def calc_directness(G, u, v):\n",
    "    \"\"\"\n",
    "        Calculate the directness between two nodes u and v\n",
    "        Directness is the ratio between:\n",
    "            -the shortest node path length (number of edges times the length of each edge)\n",
    "            - the straight line distance between those two nodes\n",
    "    \"\"\"\n",
    "    path_length = nx.shortest_path_length(G, source=u, target=v, weight='length')\n",
    "    direct_length = new_edge_length(G, u, v)\n",
    "    ret = direct_length/path_length\n",
    "\n",
    "    return ret\n"
   ]
  },
  {
   "cell_type": "code",
   "execution_count": 56,
   "metadata": {},
   "outputs": [
    {
     "data": {
      "text/plain": [
       "0.7833173572765436"
      ]
     },
     "execution_count": 56,
     "metadata": {},
     "output_type": "execute_result"
    }
   ],
   "source": [
    "wcc = [cc for cc in nx.weakly_connected_component_subgraphs(G)]\n",
    "wcc.sort(key=len, reverse=True)\n",
    "G2 = wcc[0]\n",
    "d = []\n",
    "n = 100\n",
    "# pick 1000 random edges from the largest component and calculate the average directness d (NEEDS WORK)\n",
    "\n",
    "def calc_avg_directness(G, n):\n",
    "    d = 0\n",
    "    for _ in range(n):\n",
    "        start = np.random.choice(G.nodes(), 1)\n",
    "        start = start[0]\n",
    "        reachable = nx.descendants(G, start)\n",
    "        if not reachable:\n",
    "            continue\n",
    "        end = np.random.choice(list(reachable), 1)\n",
    "        end = end[0]\n",
    "\n",
    "        d += (calc_directness(G, start, end) / n);\n",
    "    return d\n",
    "calc_avg_directness(G2, 100)\n"
   ]
  },
  {
   "cell_type": "code",
   "execution_count": 54,
   "metadata": {},
   "outputs": [
    {
     "data": {
      "text/plain": [
       "0.774544603172453"
      ]
     },
     "execution_count": 54,
     "metadata": {},
     "output_type": "execute_result"
    }
   ],
   "source": [
    "d"
   ]
  },
  {
   "cell_type": "code",
   "execution_count": 40,
   "metadata": {},
   "outputs": [
    {
     "name": "stdout",
     "output_type": "stream",
     "text": [
      "hi\n"
     ]
    }
   ],
   "source": [
    "a = set()\n",
    "if not a:\n",
    "    print('hi')"
   ]
  },
  {
   "cell_type": "code",
   "execution_count": null,
   "metadata": {
    "collapsed": true
   },
   "outputs": [],
   "source": []
  }
 ],
 "metadata": {
  "kernelspec": {
   "display_name": "Python 3",
   "language": "python",
   "name": "python3"
  },
  "language_info": {
   "codemirror_mode": {
    "name": "ipython",
    "version": 3
   },
   "file_extension": ".py",
   "mimetype": "text/x-python",
   "name": "python",
   "nbconvert_exporter": "python",
   "pygments_lexer": "ipython3",
   "version": "3.6.2"
  }
 },
 "nbformat": 4,
 "nbformat_minor": 2
}
